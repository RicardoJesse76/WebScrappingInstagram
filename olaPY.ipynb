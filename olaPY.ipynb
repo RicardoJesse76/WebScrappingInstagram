{
  "nbformat": 4,
  "nbformat_minor": 0,
  "metadata": {
    "colab": {
      "name": "olaPY.ipynb",
      "provenance": [],
      "authorship_tag": "ABX9TyPNr3OnfX/iLYZoOzDkJV5i",
      "include_colab_link": true
    },
    "kernelspec": {
      "name": "python3",
      "display_name": "Python 3"
    },
    "language_info": {
      "name": "python"
    }
  },
  "cells": [
    {
      "cell_type": "markdown",
      "metadata": {
        "id": "view-in-github",
        "colab_type": "text"
      },
      "source": [
        "<a href=\"https://colab.research.google.com/github/RicardoJesse76/WebScrappingInstagram/blob/main/olaPY.ipynb\" target=\"_parent\"><img src=\"https://colab.research.google.com/assets/colab-badge.svg\" alt=\"Open In Colab\"/></a>"
      ]
    },
    {
      "cell_type": "code",
      "execution_count": 1,
      "metadata": {
        "colab": {
          "base_uri": "https://localhost:8080/"
        },
        "id": "QNN2RgUGveBw",
        "outputId": "a126edef-9a29-416f-d760-7dafd656b83c"
      },
      "outputs": [
        {
          "output_type": "stream",
          "name": "stdout",
          "text": [
            "Ola, mundo\n"
          ]
        }
      ],
      "source": [
        "print(\"Ola, mundo\")"
      ]
    }
  ]
}